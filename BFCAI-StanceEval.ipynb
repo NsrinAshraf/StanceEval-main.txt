{
 "cells": [
  {
   "cell_type": "code",
   "execution_count": 1,
   "id": "6224f0ed",
   "metadata": {},
   "outputs": [],
   "source": [
    "import pandas as pd\n",
    "import numpy as np\n",
    "import csv\n",
    "import os\n",
    "import re\n",
    "from sklearn.model_selection import cross_val_score\n",
    "from sklearn.linear_model import SGDClassifier , LinearRegression\n",
    "from sklearn.feature_extraction.text import TfidfVectorizer, CountVectorizer\n",
    "from sklearn.metrics import classification_report, confusion_matrix,f1_score,precision_score,recall_score,accuracy_score\n",
    "from sklearn.dummy import DummyClassifier\n",
    "from sklearn.discriminant_analysis import QuadraticDiscriminantAnalysis\n",
    "from sklearn.neighbors import KNeighborsClassifier\n",
    "from sklearn import model_selection, svm\n",
    "from sklearn.svm import SVC as svc\n",
    "import string\n",
    "import re \n",
    "import nltk\n",
    "import numpy\n",
    "import time\n",
    "from sklearn.model_selection import train_test_split\n",
    "from sklearn.feature_extraction.text import CountVectorizer\n",
    "from sklearn.feature_extraction.text import TfidfVectorizer\n",
    "from sklearn.feature_extraction.text import TfidfTransformer\n",
    "from sklearn import model_selection, svm\n",
    "from sklearn.svm import SVC as svc\n",
    "from sklearn.preprocessing import LabelEncoder\n",
    "from sklearn.linear_model import LogisticRegression\n",
    "from sklearn.metrics import classification_report, confusion_matrix,f1_score,precision_score,recall_score,accuracy_score\n",
    "import sklearn.metrics as metrics\n",
    "from sklearn.metrics import plot_confusion_matrix,ConfusionMatrixDisplay\n",
    "from sklearn.model_selection import GridSearchCV\n",
    "from sklearn.ensemble import RandomForestClassifier,VotingClassifier, AdaBoostClassifier\n",
    "from sklearn.tree import DecisionTreeClassifier\n",
    "from sklearn.linear_model import PassiveAggressiveClassifier, SGDClassifier\n",
    "from sklearn.naive_bayes import GaussianNB, MultinomialNB\n",
    "from sklearn.neighbors import KNeighborsClassifier\n",
    "from sklearn.neural_network import MLPClassifier"
   ]
  },
  {
   "cell_type": "code",
   "execution_count": 2,
   "id": "0ad24c36",
   "metadata": {},
   "outputs": [],
   "source": [
    "def write_preds(input, inpid, preds,fname, delim=','):\n",
    "    with open (fname, 'w',encoding='utf8') as f_w:\n",
    "        writer = csv.writer(f_w, delimiter=delim)\n",
    "        writer.writerow(['ID', 'stance'])\n",
    "        for id, inpid, label in zip(input, inpid, preds):\n",
    "            writer.writerow([inpid,label])"
   ]
  },
  {
   "cell_type": "code",
   "execution_count": 3,
   "id": "68f8d9b1",
   "metadata": {},
   "outputs": [],
   "source": [
    "Train_Data = 'Mawqif_AllTargets_Train.csv'\n",
    "Test_Data  = 'Mawqif_AllTargets_Blind Test.csv'"
   ]
  },
  {
   "cell_type": "code",
   "execution_count": 4,
   "id": "6bda3a50",
   "metadata": {},
   "outputs": [],
   "source": [
    "df = pd.read_csv(Train_Data)\n",
    "df_test = pd.read_csv(Test_Data)"
   ]
  },
  {
   "cell_type": "code",
   "execution_count": 5,
   "id": "425ee41f",
   "metadata": {},
   "outputs": [],
   "source": [
    "df = df[['ID','text','stance']]\n",
    "df_test=df_test[['ID','text']]\n",
    "mapping = {'None': 0, 'Favor': 1, 'Against': 2}\n",
    "df['stance'] = df['stance'].apply(lambda x: mapping[x])"
   ]
  },
  {
   "cell_type": "code",
   "execution_count": 6,
   "id": "a7ab462d",
   "metadata": {},
   "outputs": [],
   "source": [
    "test_text=df_test['text']\n",
    "test_id=df_test['ID']"
   ]
  },
  {
   "cell_type": "code",
   "execution_count": 7,
   "id": "492ae4cd",
   "metadata": {},
   "outputs": [],
   "source": [
    "def process(text):\n",
    "    text = text.strip()\n",
    "    text = re.sub(r'(.)\\1+', r'\\1', text)\n",
    "    text = re.sub(r'http\\S+', ' ', str(text))\n",
    "    text = re.sub(r'@\\w+', ' ', str(text))\n",
    "    text = re.sub(r'_',' ',text)\n",
    "    text = re.sub(r'[a-zA-Z0-9]*PM','',text)\n",
    "#normalis arabic\n",
    "    text = re.sub(\"[إأآا]\", \"ا\", text)\n",
    "    text = re.sub(\"ى\", \"ي\", text)\n",
    "    text = re.sub(\"ؤ\", \"ء\", text)\n",
    "    text = re.sub(\"ئ\", \"ء\", text)\n",
    "    text = re.sub(\"ة\", \"ه\", text)\n",
    "    text = re.sub(\"گ\", \"ك\", text)\n",
    "    return text"
   ]
  },
  {
   "cell_type": "code",
   "execution_count": 8,
   "id": "39f50480",
   "metadata": {},
   "outputs": [],
   "source": [
    "dt_text=[process(x) for x in df['text']]\n",
    "dt_test=[process(x) for x in df_test['text']]\n",
    "dt_label=df['stance']"
   ]
  },
  {
   "cell_type": "code",
   "execution_count": 9,
   "id": "2e7d3582",
   "metadata": {},
   "outputs": [],
   "source": [
    "CV, MAX_FEATURE, MAX_DF, nGram  = 5, None, 1.0, 2\n",
    "TfIdfVect = TfidfVectorizer(max_df = MAX_DF,\n",
    "                            max_features = MAX_FEATURE,\n",
    "                            ngram_range = (1, nGram))"
   ]
  },
  {
   "cell_type": "code",
   "execution_count": 10,
   "id": "0bb4ca7f",
   "metadata": {},
   "outputs": [],
   "source": [
    "train = TfIdfVect.fit_transform(dt_text)\n",
    "test =TfIdfVect.transform(dt_test)"
   ]
  },
  {
   "cell_type": "code",
   "execution_count": 11,
   "id": "c6a5d0df",
   "metadata": {},
   "outputs": [],
   "source": [
    "clf1  = svm.SVC(kernel = 'linear', random_state=15)"
   ]
  },
  {
   "cell_type": "code",
   "execution_count": 12,
   "id": "4de76244",
   "metadata": {},
   "outputs": [],
   "source": [
    "model1 = clf1.fit(train, dt_label)\n",
    "predicted1 = model1.predict(test)"
   ]
  },
  {
   "cell_type": "code",
   "execution_count": 13,
   "id": "8d4adafb",
   "metadata": {},
   "outputs": [],
   "source": [
    "clf3  = SGDClassifier(loss='modified_huber', penalty='l2', alpha=1e-3, max_iter=10000,random_state=45)"
   ]
  },
  {
   "cell_type": "code",
   "execution_count": 14,
   "id": "b4254f1e",
   "metadata": {},
   "outputs": [],
   "source": [
    "model3 = clf3.fit(train, dt_label)\n",
    "predicted3 = model3.predict(test)"
   ]
  },
  {
   "cell_type": "code",
   "execution_count": 15,
   "id": "7a2076be",
   "metadata": {},
   "outputs": [],
   "source": [
    "mapping = {0: 'None', 1: 'Favor', 2: 'Against'}\n",
    "predicted3_labels = np.vectorize(lambda x: mapping[x])(predicted3)\n",
    "predicted1_labels = np.vectorize(lambda x: mapping[x])(predicted1)"
   ]
  },
  {
   "cell_type": "code",
   "execution_count": 16,
   "id": "34b40c41",
   "metadata": {},
   "outputs": [],
   "source": [
    "Result_pred =write_preds(test_text,test_id,predicted1_labels,'Mawqif_AllTargets_Blind Test_1.csv')"
   ]
  },
  {
   "cell_type": "code",
   "execution_count": 17,
   "id": "e21d90ba",
   "metadata": {},
   "outputs": [],
   "source": [
    "Result_pred =write_preds(test_text,test_id,predicted3_labels,'Mawqif_AllTargets_Blind Test_2.csv')"
   ]
  },
  {
   "cell_type": "code",
   "execution_count": null,
   "id": "a5f91371",
   "metadata": {},
   "outputs": [],
   "source": []
  }
 ],
 "metadata": {
  "kernelspec": {
   "display_name": "Python 3 (ipykernel)",
   "language": "python",
   "name": "python3"
  },
  "language_info": {
   "codemirror_mode": {
    "name": "ipython",
    "version": 3
   },
   "file_extension": ".py",
   "mimetype": "text/x-python",
   "name": "python",
   "nbconvert_exporter": "python",
   "pygments_lexer": "ipython3",
   "version": "3.9.12"
  }
 },
 "nbformat": 4,
 "nbformat_minor": 5
}
